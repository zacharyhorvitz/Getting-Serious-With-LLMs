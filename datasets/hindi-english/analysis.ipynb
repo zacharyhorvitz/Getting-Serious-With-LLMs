{
 "cells": [
  {
   "cell_type": "code",
   "execution_count": 9,
   "metadata": {},
   "outputs": [],
   "source": [
    "import json\n",
    "import os\n",
    "\n",
    "all_data = []\n",
    "\n",
    "for file in os.listdir('Raw-data'):\n",
    "    if not file.endswith('json'):\n",
    "        continue\n",
    "    with open('Raw-data/' + file) as f:\n",
    "        all_data.extend(json.load(f))\n",
    "\n",
    "\n",
    "all_data_ids = [x['id'] for x in all_data]\n",
    "# check unique ids\n",
    "assert len(all_data_ids) == len(set(all_data_ids))"
   ]
  },
  {
   "cell_type": "code",
   "execution_count": 10,
   "metadata": {},
   "outputs": [],
   "source": [
    "with open('HumorCorpusFinal.txt', 'r') as f:\n",
    "    humor_corpus = [line.split() for line in f.readlines()]\n",
    "humor_corpus = [l for l in humor_corpus if len(l) == 2]\n",
    "\n",
    "ids = [l[0] for l in humor_corpus]\n",
    "# check no duplicates\n",
    "# print(ids)\n",
    "# assert len(ids) == len(set(ids)), (len(ids), len(set(ids)))\n",
    "\n",
    "\n",
    "# print(len(humor_corpus))\n",
    "found_count = 0\n",
    "not_found = 0\n",
    "for id, label in humor_corpus:\n",
    "    found = False\n",
    "    for data in all_data:\n",
    "\n",
    "        if data['id'] == id:\n",
    "            if 'label' in data:\n",
    "                print('DUPLICATE')\n",
    "                assert data['label'] == label\n",
    "            data['label'] = label\n",
    "    \n",
    "            # print('FOUND')\n",
    "            found = True\n",
    "\n",
    "            break\n",
    "    if found:\n",
    "        found_count += 1\n",
    "    else:\n",
    "        not_found += 1\n",
    "        print(id)\n",
    "    \n",
    "    \n",
    "\n"
   ]
  },
  {
   "cell_type": "code",
   "execution_count": 12,
   "metadata": {},
   "outputs": [
    {
     "name": "stdout",
     "output_type": "stream",
     "text": [
      "1759 1192 2952\n"
     ]
    }
   ],
   "source": [
    "positive_examples = [d for d in all_data if 'label' in d and d['label'].lower() == 'h']\n",
    "negative_examples = [d for d in all_data if 'label' in d and d['label'].lower() == 'n']\n",
    "\n",
    "print(len(positive_examples), len(negative_examples), found_count)\n",
    "\n"
   ]
  },
  {
   "cell_type": "code",
   "execution_count": 15,
   "metadata": {},
   "outputs": [],
   "source": [
    "# divide data into train, dev, test  with 60, 20, 20 split\n",
    "import random\n",
    "random.seed(42)\n",
    "\n",
    "random.shuffle(positive_examples)\n",
    "random.shuffle(negative_examples)\n",
    "\n",
    "train_pos = positive_examples[:int(len(positive_examples) * 0.6)]\n",
    "dev_pos = positive_examples[int(len(positive_examples) * 0.6):int(len(positive_examples) * 0.8)]\n",
    "test_pos = positive_examples[int(len(positive_examples) * 0.8):]\n",
    "\n",
    "train_neg = negative_examples[:int(len(negative_examples) * 0.6)]\n",
    "dev_neg = negative_examples[int(len(negative_examples) * 0.6):int(len(negative_examples) * 0.8)]\n",
    "test_neg = negative_examples[int(len(negative_examples) * 0.8):]\n",
    "\n",
    "train = train_pos + train_neg\n",
    "dev = dev_pos + dev_neg\n",
    "test = test_pos + test_neg\n",
    "\n",
    "random.shuffle(train)\n",
    "random.shuffle(dev)\n",
    "random.shuffle(test)\n",
    "\n",
    "with open('train_new.tsv', 'w') as f:\n",
    "    for d in train:\n",
    "        # map h to 1 and n to 0\n",
    "        label = 1 if d['label'].lower() == 'h' else 0\n",
    "        f.write(f\"{d['id']}\\t{' '.join(d['text'].split())}\\t{label}\\n\")\n",
    "\n",
    "with open('dev_new.tsv', 'w') as f:\n",
    "    for d in dev:\n",
    "        label = 1 if d['label'].lower() == 'h' else 0\n",
    "        f.write(f\"{d['id']}\\t{' '.join(d['text'].split())}\\t{label}\\n\")\n",
    "\n",
    "\n",
    "with open('test_new.tsv', 'w') as f:\n",
    "    for d in test:\n",
    "        label = 1 if d['label'].lower() == 'h' else 0\n",
    "        f.write(f\"{d['id']}\\t{' '.join(d['text'].split())}\\t{label}\\n\")\n",
    "\n"
   ]
  }
 ],
 "metadata": {
  "kernelspec": {
   "display_name": "base",
   "language": "python",
   "name": "python3"
  },
  "language_info": {
   "codemirror_mode": {
    "name": "ipython",
    "version": 3
   },
   "file_extension": ".py",
   "mimetype": "text/x-python",
   "name": "python",
   "nbconvert_exporter": "python",
   "pygments_lexer": "ipython3",
   "version": "3.11.5"
  },
  "orig_nbformat": 4
 },
 "nbformat": 4,
 "nbformat_minor": 2
}
